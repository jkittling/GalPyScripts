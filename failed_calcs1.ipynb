{
 "cells": [
  {
   "cell_type": "code",
   "execution_count": 10,
   "id": "b5ab55b3",
   "metadata": {},
   "outputs": [],
   "source": [
    "import numpy as np\n",
    "from scipy.optimize import root_scalar as root\n",
    "import matplotlib.pyplot as plt"
   ]
  },
  {
   "cell_type": "code",
   "execution_count": 16,
   "id": "43a0dd23",
   "metadata": {},
   "outputs": [],
   "source": [
    "def GP_halo(r, rho, rscal_h):\n",
    "    \"\"\"\n",
    "    Potential due to DM halo at a given radius.\n",
    "    Density of DM (rho) and scale radius (rscal_h)\n",
    "    are parameters. \n",
    "    \"\"\"\n",
    "    coeff = 4*np.pi*(rscal_h**3)*rho\n",
    "    funct = np.log(1+r/rscal_h)-(r/rscal_h)*(1+r/rscal_h)**(-1)\n",
    "    return coeff*funct/(r**(2))\n",
    "\n",
    "def GP_Disk(r, M_d, rscal_d, zscal_d):\n",
    "    \"\"\"\n",
    "    Potential due to disk at a given radius.\n",
    "    Mass of disk (M_d), scale radius (rscal_d),\n",
    "    and scale height (zscal_d) are parameters. \n",
    "    Only accounts for the field along same plane \n",
    "    as the disk.\n",
    "    \"\"\"\n",
    "    return M_d*r/((r**2+(rscal_d+zscal_d)**2)**(3/2))\n",
    "\n",
    "def GP_Bulge(r, M_b, rscal_b):\n",
    "    \"\"\"\n",
    "    Potential due to bulge at a given radius.\n",
    "    Mass of bulge (M_b) and scale radius (rscal_b)\n",
    "    are parameters. \n",
    "    \"\"\"\n",
    "    return M_b/(r+rscal_b)**2\n",
    "\n",
    "def tidal_rad(DM, Disk, Bulge, Mass_Proj, Radius_Proj):\n",
    "    \"\"\"\n",
    "    Calculates the tidal radius based on \n",
    "    given potential parameters of the Milky Way\n",
    "    as well as the projenitor\n",
    "    \n",
    "    DM: array consisting of the density [0] and scale radius [1]\n",
    "    of the dark matter halo. Modeled after NFW potential.\n",
    "    \n",
    "    Disk: array consisting of the mass [0], scale radius [1], and \n",
    "    the scale height [2] of the stellar disk. Modeled after Miyamoto \n",
    "    & Nagai potential. \n",
    "    \n",
    "    Bulge: array consisting of the mass [0] and scale radius [1] \n",
    "    of the bulge. Modeled after Hernquist potential. \n",
    "    \n",
    "    Mass_Proj: the virial mass of the projenitor\n",
    "    \n",
    "    Radius_Proj: the virial radius of the projenitor\n",
    "    \n",
    "    Assumptions:\n",
    "    - X = 0 is the center of the Milky Way\n",
    "    - Progenitor is on the plane of the disk of the Milky Way (z=0)\n",
    "    - The Milky Way Potential is static, simple analytic forms\n",
    "    - The Progenitor is a spherically symmetric mass\n",
    "    - Stars are stripped at the edge of the virial radius\n",
    "    \"\"\"\n",
    "    GP_Proj = Mass_Proj/(Radius_Proj**(2))\n",
    "    \n",
    "    def Net(R):  \n",
    "        return GP_Proj-GP_Bulge(R,Bulge[0],Bulge[1])-GP_Disk(R,Disk[0],Disk[1],Disk[2])-GP_halo(R,DM[0],DM[1])\n",
    "\n",
    "    sol = root(Net,method=\"bisect\", x0=1e5, bracket=[1e1,1e10])\n",
    "    \n",
    "    print(sol)\n",
    "    return sol.root"
   ]
  },
  {
   "cell_type": "code",
   "execution_count": 24,
   "id": "522ea60e",
   "metadata": {},
   "outputs": [
    {
     "name": "stdout",
     "output_type": "stream",
     "text": [
      "      converged: True\n",
      "           flag: 'converged'\n",
      " function_calls: 74\n",
      "     iterations: 72\n",
      "           root: 163.60658066318206\n"
     ]
    }
   ],
   "source": [
    "#Wang et al. 2021\n",
    "dm = [7.19, 1.07] #M_sun/kpc^3 & kpc\n",
    "disk = [4.74e10, 3, 1] #M_sun & kpc &kpc\n",
    "bulge = [0.86e10, 0.075] #M_sun & kpc\n",
    "\n",
    "#Mateo et al. 2008\n",
    "M_leo = 7e8 #virial mass in M_sun\n",
    "R_leo = 18.3 #virial radius in kpc\n",
    "\n",
    "r_tidal = tidal_rad(dm, disk, bulge, M_leo, R_leo)"
   ]
  },
  {
   "cell_type": "code",
   "execution_count": 27,
   "id": "ab12d549",
   "metadata": {},
   "outputs": [],
   "source": [
    "import galpy\n",
    "from galpy.orbit import Orbit\n",
    "from galpy import potential as pot\n",
    "from galpy.util import coords, conversion #for unit conversions\n",
    "\n",
    "from astropy import units as u"
   ]
  },
  {
   "cell_type": "code",
   "execution_count": 48,
   "id": "653ec0dc",
   "metadata": {},
   "outputs": [
    {
     "name": "stdout",
     "output_type": "stream",
     "text": [
      "      converged: True\n",
      "           flag: 'converged'\n",
      " function_calls: 62\n",
      "     iterations: 60\n",
      "           root: 16720269.309125336\n"
     ]
    }
   ],
   "source": [
    "# def MilkyWayPotential(DM, Disk, Bulge, RO, VO):\n",
    "#     \"\"\"\n",
    "#     Returns a galpy potential object to serve\n",
    "#     as a model potential for the Milky Way.\n",
    "#     Divides MW into dark matter, disk, and bulge\n",
    "#     and uses NFW, Miyamoto&Nagai, and Hernquist \n",
    "#     model respectfully. \n",
    "    \n",
    "#     Assumptions:\n",
    "#     - The Milky Way is static, simple analytic forms\n",
    "#     \"\"\"\n",
    "#     np= pot.NFWPotential(amp=DM[0], a=DM[1]/RO, ro=RO, vo=VO)\n",
    "#     mp= pot.MiyamotoNagaiPotential(amp=Disk[0], a=Disk[1]/RO, b=Disk[2]/RO, ro=RO, vo=VO)\n",
    "#     bp= pot.HernquistPotential(amp=Bulge[0], a=Bulge[1]/RO, ro=RO, vo=VO)\n",
    "    \n",
    "#     return np+mp+bp\n",
    "\n",
    "# MW = MilkyWayPotential(dm,disk,bulge,8.34,240)\n",
    "\n",
    "# G = 6.67e-11 * (1/3.086e16)**3 * (31536e6)**2 * (2e30)\n",
    "# RO = 8.34\n",
    "# VO = 240\n",
    "\n",
    "# def tidal_galpy():\n",
    "#     GP_Leo = (G*M_leo)/(R_leo**2)\n",
    "    \n",
    "#     def Net(r):\n",
    "#         return GP_Leo + pot.evaluateRforces(MW, r, 0)*conversion.force_in_pcMyr2(VO,RO)\n",
    "    \n",
    "#     sol = root(Net,method=\"bisect\", x0=1e5, bracket=[1e1,1e10])\n",
    "    \n",
    "#     print(sol)\n",
    "#     return sol.root \n",
    "\n",
    "# galpy_r = tidal_galpy()"
   ]
  },
  {
   "cell_type": "code",
   "execution_count": 49,
   "id": "f40a34a8",
   "metadata": {},
   "outputs": [
    {
     "ename": "SyntaxError",
     "evalue": "invalid syntax. Perhaps you forgot a comma? (1767485772.py, line 21)",
     "output_type": "error",
     "traceback": [
      "\u001b[0;36m  Cell \u001b[0;32mIn[49], line 21\u001b[0;36m\u001b[0m\n\u001b[0;31m    bulge = pot.PowerSphericalPotentialwCutoff(alpha=1.8, r=0.0715, rcut=2.1\u001b[0m\n\u001b[0m                                                                         ^\u001b[0m\n\u001b[0;31mSyntaxError\u001b[0m\u001b[0;31m:\u001b[0m invalid syntax. Perhaps you forgot a comma?\n"
     ]
    }
   ],
   "source": [
    "def MilkyWayPotentialW():\n",
    "    \"\"\"\n",
    "    Returns a galpy potential object to serve\n",
    "    as a model potential for the Milky Way.\n",
    "    Divides MW into dark matter, disk, and bulge\n",
    "    and uses NFW, Miyamoto&Nagai, and Hernquist \n",
    "    model respectfully. \n",
    "    \n",
    "    Assumptions:\n",
    "    - The Milky Way is static, simple analytic forms\n",
    "    \"\"\"\n",
    "    halo = pot.NFWPotential(amp=DM[0], a=DM[1]/RO, ro=RO, vo=VO)\n",
    "    \n",
    "    thindisk = pot.DoubleExponentialDiskPotential(hr=ThinDisk[1], hz=ThinDisk[2],\n",
    "                                                  normalize=ThinDisk[0]/M_MW,\n",
    "                                                  ro=RO, vo=VO)\n",
    "    thicdisk = pot.DoubleExponentialDiskPotential(hr=ThicDisk[1], hz=ThicDisk[2],\n",
    "                                                  normalize=ThicDisk[0]/M_MW,\n",
    "                                                  ro=RO, vo=VO)\n",
    "    \n",
    "    bulge = pot.PowerSphericalPotentialwCutoff(alpha=1.8, r=0.0715, rcut=2.1\n",
    "                                              normalize= )\n",
    "    \n",
    "    return np+mp+bp"
   ]
  },
  {
   "cell_type": "code",
   "execution_count": null,
   "id": "db36abdc",
   "metadata": {},
   "outputs": [],
   "source": []
  }
 ],
 "metadata": {
  "kernelspec": {
   "display_name": "Python 3 (ipykernel)",
   "language": "python",
   "name": "python3"
  },
  "language_info": {
   "codemirror_mode": {
    "name": "ipython",
    "version": 3
   },
   "file_extension": ".py",
   "mimetype": "text/x-python",
   "name": "python",
   "nbconvert_exporter": "python",
   "pygments_lexer": "ipython3",
   "version": "3.11.4"
  }
 },
 "nbformat": 4,
 "nbformat_minor": 5
}
