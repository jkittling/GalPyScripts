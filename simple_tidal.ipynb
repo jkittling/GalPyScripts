{
 "cells": [
  {
   "cell_type": "code",
   "execution_count": 4,
   "id": "413d3980",
   "metadata": {},
   "outputs": [],
   "source": [
    "import numpy as np\n",
    "import matplotlib.pyplot as plt\n",
    "from scipy.optimize import root_scalar as root"
   ]
  },
  {
   "cell_type": "code",
   "execution_count": 5,
   "id": "33d6e817",
   "metadata": {},
   "outputs": [],
   "source": [
    "#Parameter Block\n",
    "#McMillan et al. (2012)\n",
    "\n",
    "#Bulge\n",
    "M_b = 0.9e10 #Msun\n",
    "rscal_b = 1.2 #kpc, from N-body Tutorial\n",
    "\n",
    "#Disk: Bovy 2015 \n",
    "M_d = 5.7e10 #Msun\n",
    "rscal_d = 2.6 \n",
    "zscal_d = 0.28\n",
    "\n",
    "#Halo\n",
    "rho_h = 0.009e9 #Msun/pc^3\n",
    "rscal_h = 16 #Bovy 2015\n",
    "\n",
    "#Mateo et al. (2008)\n",
    "#Leo\n",
    "M_leo = 7e8 #virial mass\n",
    "r_leo = 18.3e3 #virial radius"
   ]
  },
  {
   "cell_type": "code",
   "execution_count": 6,
   "id": "cebc9af5",
   "metadata": {},
   "outputs": [],
   "source": [
    "#Function Block\n",
    "#GP: the gradient of the Potential Function given z=0 & G=1\n",
    "def GP_Bulge(r):\n",
    "    return M_b/(r+rscal_b)**2\n",
    "\n",
    "def GP_Disk(r):\n",
    "    return M_d*r/((r**2+(rscal_d+zscal_d)**2)**(3/2))\n",
    "\n",
    "def GP_halo(r):\n",
    "    coeff = 4*np.pi*(rscal_h**3)*rho_h\n",
    "    funct = np.log(1+r/rscal_h)-(r/rscal_h)*(1+r/rscal_h)**(-1)\n",
    "    return coeff*funct/(r**(2))\n",
    "\n",
    "GP_Leo = M_leo/(r_leo**(2))"
   ]
  },
  {
   "cell_type": "code",
   "execution_count": 7,
   "id": "16368544",
   "metadata": {},
   "outputs": [
    {
     "name": "stdout",
     "output_type": "stream",
     "text": [
      "      converged: True\n",
      "           flag: 'converged'\n",
      " function_calls: 65\n",
      "     iterations: 63\n",
      "           root: 1533658.8994047956\n"
     ]
    }
   ],
   "source": [
    "#Set up equation to solve\n",
    "def Net(r):  \n",
    "    return GP_Leo - GP_Bulge(r) - GP_Disk(r)- GP_halo(r)\n",
    "\n",
    "r_tidal = root(Net,method=\"bisect\", x0=1e5, bracket=[1e10,1e5])\n",
    "print(r_tidal)"
   ]
  }
 ],
 "metadata": {
  "kernelspec": {
   "display_name": "Python 3 (ipykernel)",
   "language": "python",
   "name": "python3"
  },
  "language_info": {
   "codemirror_mode": {
    "name": "ipython",
    "version": 3
   },
   "file_extension": ".py",
   "mimetype": "text/x-python",
   "name": "python",
   "nbconvert_exporter": "python",
   "pygments_lexer": "ipython3",
   "version": "3.11.4"
  }
 },
 "nbformat": 4,
 "nbformat_minor": 5
}
