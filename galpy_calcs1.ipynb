{
 "cells": [
  {
   "cell_type": "code",
   "execution_count": 1,
   "id": "2e2977d3",
   "metadata": {},
   "outputs": [],
   "source": [
    "import numpy as np\n",
    "from scipy.optimize import root_scalar, root\n",
    "import matplotlib.pyplot as plt\n",
    "from astropy import units as u\n",
    "\n",
    "import galpy\n",
    "from galpy.orbit import Orbit\n",
    "from galpy import potential as pot\n",
    "from galpy.util import coords, conversion #for unit conversions"
   ]
  },
  {
   "cell_type": "code",
   "execution_count": 2,
   "id": "a1fc02a5",
   "metadata": {},
   "outputs": [],
   "source": [
    "R0 = 8\n",
    "V0 = 220\n",
    "\n",
    "# GP_Bulge = pot.PowerSphericalPotentialwCutoff(alpha=1.8, r1=0.075/R0, rc=2.1/R0, ro=R0, vo=V0, normalize=0.05)\n",
    "# GP_ThinD = pot.DoubleExponentialDiskPotential(hr = 2.5/R0, hz = 0.3/R0, ro=R0, vo=V0, normalize=0.3)\n",
    "# GP_ThicD = pot.DoubleExponentialDiskPotential(hr = 3.5/R0, hz = 0.9/R0, ro=R0, vo=V0, normalize=0.3)\n",
    "# GP_Halo  = pot.NFWPotential(a = 1.07/R0, ro=R0, vo=V0, normalize = 0.35)\n",
    "\n",
    "# MW_Wang = GP_Bulge + GP_ThinD + GP_ThicD + GP_Halo\n",
    "# for p in MW_Wang:\n",
    "#     p.plotRotcurve(Rrange=[0.01,30.],grid=1001,overplot=True)\n",
    "#     plt.xlim(0.1,20)\n",
    "#     plt.ylim(0.1,200)"
   ]
  },
  {
   "cell_type": "code",
   "execution_count": 3,
   "id": "b46e5285",
   "metadata": {},
   "outputs": [],
   "source": [
    "# def tidal_radius(Mass_Proj, Radius_Proj, MW_Potential):\n",
    "#     \"\"\"\n",
    "#     Gives the tidal radius for a given projenitor in \n",
    "#     the Milky Way potential. Arguments are the predicted\n",
    "#     masses (with astropy units M_sun) and radius (pc) \n",
    "#     from the center of the projenitor as well as a galpy\n",
    "#     Milky Way potential object. \n",
    "    \n",
    "#     Assumptions:\n",
    "#     - X = 0 is the center of the Milky Way\n",
    "#     - Progenitor is on the plane of the disk of the Milky Way (z=0)\n",
    "#     - The Milky Way Potential is static\n",
    "#     - The Progenitor is a spherically symmetric mass following an isothermal potential\n",
    "#     - Stars are stripped at the edge of the virial radius\n",
    "#     \"\"\"\n",
    "#     Potential_Proj = pot.PseudoIsothermalPotential(amp = Mass_Proj, a = Radius_Proj)\n",
    "    \n",
    "#     def force(r):\n",
    "#         #subfunction that gives net force based on two potentials\n",
    "#         F_Proj = pot.evaluateRforces(Potential_Proj, Radius_Proj, 0)*conversion.force_in_pcMyr2(V0,R0)\n",
    "#         F_MW = pot.evaluateRforces(MW_Potential, r, 0)*conversion.force_in_pcMyr2(V0,R0)\n",
    "#         return F_MW - F_Proj #Projenitor force is antiparallel to Milky Way force (so opp. sign)\n",
    "    \n",
    "#     sol = root_scalar(force, method=\"bisect\", x0=1e5, bracket=[1e1,1e20], xtol=1e3)\n",
    "#         #solves for root using bisect method. Tolerance is within a kiloparsec\n",
    "#         if sol.converged == False:\n",
    "#             print(f\"The solution for {m_proj} solar masses didn't converge!\")\n",
    "#         sols.append(sol.root)\n",
    "        \n",
    "#     return np.asarray(sols)\n",
    "#     #return sol.x\n",
    "\n",
    "# #Mateo et al. 2008\n",
    "# M_leo = 7e8*u.Msun #virial mass in M_sun\n",
    "# R_leo = 18.3e3*u.pc #virial radius in kpc\n",
    "\n",
    "# #r_tidal = tidal_radius([0.5e10], R_leo, MW_Wang)"
   ]
  },
  {
   "cell_type": "code",
   "execution_count": 33,
   "id": "262ffdf5",
   "metadata": {},
   "outputs": [],
   "source": [
    "def tidal_radius(Proj_Potential, MW_Potential, dist):\n",
    "    \"\"\"\n",
    "    Gives the tidal radius for a given projenitor in \n",
    "    the Milky Way potential. Arguments are galpy \n",
    "    potentials of the projenitor and the Milky Way,\n",
    "    as well as the distance (dist) of stars from the\n",
    "    center of the projenitor (should be Quantity object).\n",
    "    \n",
    "    Assumptions:\n",
    "    - X = 0 is the center of the Milky Way\n",
    "    - Progenitor is on the plane of the disk of the Milky Way (z=0)\n",
    "    - Potentials are static and represented by simple analytic forms\n",
    "    \"\"\"\n",
    "    #1) Need a function to describe the force by the two potentials at the tidal distance\n",
    "    def force(r):\n",
    "        #subfunction that gives net force based on two potentials\n",
    "        F_Proj = pot.evaluateRforces(Proj_Potential, dist, 0)*conversion.force_in_pcMyr2(V0,R0)\n",
    "        F_MW = pot.evaluateRforces(MW_Potential, r, 0)*conversion.force_in_pcMyr2(V0,R0)\n",
    "        return F_MW - F_Proj #Projenitor force is antiparallel to Milky Way force (so opp. sign)\n",
    "    \n",
    "    #2) For it to be a tidal distance, the force should be 0\n",
    "    sol = root_scalar(force, method=\"bisect\", x0=1e5, bracket=[1e1,1e20], xtol=1e2)\n",
    "    #solves for root using bisect method. Tolerance is within a kiloparsec\n",
    "    if sol.converged == False:\n",
    "        print(f\"The solution for {m_proj} solar masses didn't converge!\")\n",
    "        \n",
    "    #3) Give back that tidal distance\n",
    "    return sol.root\n",
    "    #return sol.x\n",
    "\n",
    "def tidal_radii_iso(Masses, R, Core_Proj, MW_Potential, Plot):\n",
    "    tidal_rads = []\n",
    "    \n",
    "    for M in Masses:\n",
    "        Proj_Potential = pot.PseudoIsothermalPotential(amp = M, a = Core_Proj, normalize = False)\n",
    "        r = tidal_radius(Proj_Potential, MW_Potential, R)\n",
    "        tidal_rads.append(r)\n",
    "    \n",
    "    tidal_rads = np.asarray(tidal_rads)\n",
    "    if Plot == True:\n",
    "        print(\"Plot Commencing\")\n",
    "        plt.plot(Masses.value/(1e10), tidal_rads/(1e3), label = f\"Star at {R/1e3} kpc\")\n",
    "        plt.xlabel(r\"Mass [$10^{10} \\mathrm{M}_{\\odot}$]\")\n",
    "        plt.ylabel(r\"Tidal Radii [$\\mathrm{kpc}$]\")\n",
    "        \n",
    "    if Plot == False:\n",
    "        print(\"No Plot Requested\")\n",
    "    \n",
    "    return tidal_rads"
   ]
  },
  {
   "cell_type": "code",
   "execution_count": 34,
   "id": "b55a1e02",
   "metadata": {},
   "outputs": [
    {
     "ename": "NameError",
     "evalue": "name 'Proj_Pontential' is not defined",
     "output_type": "error",
     "traceback": [
      "\u001b[0;31m---------------------------------------------------------------------------\u001b[0m",
      "\u001b[0;31mNameError\u001b[0m                                 Traceback (most recent call last)",
      "Cell \u001b[0;32mIn[34], line 12\u001b[0m\n\u001b[1;32m     10\u001b[0m r \u001b[38;5;241m=\u001b[39m []\n\u001b[1;32m     11\u001b[0m \u001b[38;5;28;01mfor\u001b[39;00m R \u001b[38;5;129;01min\u001b[39;00m Rs_Leo:\n\u001b[0;32m---> 12\u001b[0m     r\u001b[38;5;241m.\u001b[39mappend(tidal_radii_iso(Mstar_Leo, R, \u001b[38;5;241m4e3\u001b[39m\u001b[38;5;241m*\u001b[39mu\u001b[38;5;241m.\u001b[39mkpc, pot\u001b[38;5;241m.\u001b[39mMWPotential2014, Plot\u001b[38;5;241m=\u001b[39m\u001b[38;5;28;01mTrue\u001b[39;00m))\n\u001b[1;32m     13\u001b[0m all_rs \u001b[38;5;241m=\u001b[39m np\u001b[38;5;241m.\u001b[39masarray(r)\n\u001b[1;32m     14\u001b[0m \u001b[38;5;66;03m#print(all_rs)\u001b[39;00m\n",
      "Cell \u001b[0;32mIn[33], line 39\u001b[0m, in \u001b[0;36mtidal_radii_iso\u001b[0;34m(Masses, R, Core_Proj, MW_Potential, Plot)\u001b[0m\n\u001b[1;32m     36\u001b[0m     r \u001b[38;5;241m=\u001b[39m tidal_radius(Proj_Potential, MW_Potential, R)\n\u001b[1;32m     37\u001b[0m     tidal_rads\u001b[38;5;241m.\u001b[39mappend(r)\n\u001b[0;32m---> 39\u001b[0m Proj_Pontential\u001b[38;5;241m.\u001b[39mplot()\n\u001b[1;32m     41\u001b[0m tidal_rads \u001b[38;5;241m=\u001b[39m np\u001b[38;5;241m.\u001b[39masarray(tidal_rads)\n\u001b[1;32m     42\u001b[0m \u001b[38;5;28;01mif\u001b[39;00m Plot \u001b[38;5;241m==\u001b[39m \u001b[38;5;28;01mTrue\u001b[39;00m:\n",
      "\u001b[0;31mNameError\u001b[0m: name 'Proj_Pontential' is not defined"
     ]
    }
   ],
   "source": [
    "R_Leo = 18.3e3*u.pc #virial radius in pc\n",
    "Rs_Leo = [R_Leo, 2*R_Leo, 3*R_Leo]\n",
    "Mstar_Leo = np.linspace(0.5e10,2.1e10, 321)*u.Msun\n",
    "\n",
    "# LeoPotential = pot.PseudoIsothermalPotential(amp = 1.3e10*u.Msun, a = 1e3*u.kpc, normalize = False)\n",
    "\n",
    "# rs = tidal_radius(LeoPotential,pot.MWPotential2014, R_Leo)\n",
    "# print(rs)\n",
    "\n",
    "r = []\n",
    "for R in Rs_Leo:\n",
    "    r.append(tidal_radii_iso(Mstar_Leo, R, 4e3*u.kpc, pot.MWPotential2014, Plot=True))\n",
    "all_rs = np.asarray(r)\n",
    "#print(all_rs)\n",
    "plt.legend()"
   ]
  },
  {
   "cell_type": "code",
   "execution_count": null,
   "id": "56ff42e5",
   "metadata": {},
   "outputs": [],
   "source": [
    "# #Mateo et al. 2008\n",
    "# M_leo = 7e8 #virial mass in M_sun\n",
    "# R_leo = 18.3e3 #virial radius in kpc\n",
    "\n",
    "# #r_tidal = tidal_radius([0.5e10], R_leo, MW_Wang)\n",
    "\n",
    "# # Mstar_Leo = np.linspace(0.5e10,2.1e10, 65)\n",
    "# # r_tidals = tidal_radius(Mstar_Leo, R_leo, MW_Wang)\n",
    "\n",
    "# # print(r_tidals)\n",
    "\n",
    "# Mstar_Leo = np.linspace(0.5e10,2.1e10, 321)\n",
    "\n",
    "# #r_tidal = tidal_radius(Mstar_Leo, R_leo, MW_Wang)\n",
    "\n",
    "# r_tidals = []\n",
    "# Rs_Leo = [R_leo, 2*R_leo, 3*R_leo]\n",
    "# for R in Rs_Leo: \n",
    "#     r_tidals.append(tidal_radius(Mstar_Leo, R, MW_Wang))\n",
    "\n",
    "# fig, ax = plt.subplots()\n",
    "# for i in range(0,3):\n",
    "#     plt.plot(Mstar_Leo/(1e10), r_tidals[i]/(1e3), label=f\"{i+1} Virial Rad\")\n",
    "#     plt.xlabel(r\"Mass [$10^{10} \\mathrm{M}_{\\odot}$]\")\n",
    "#     plt.ylabel(r\"Tidal Radius [$\\mathrm{kpc}$]\")\n",
    "#     plt.legend()"
   ]
  },
  {
   "cell_type": "code",
   "execution_count": 22,
   "id": "3e2c4f25",
   "metadata": {},
   "outputs": [],
   "source": [
    "#Parameter Block\n",
    "#Orbit Initial Conditions\n",
    "orb = Orbit.from_name('Leo I')\n",
    "orb_df = Orbit.from_name('Leo I')\n",
    "\n",
    "ts = np.linspace(0,-4,101)*u.Gyr #every 10Myr\n",
    "\n",
    "#No DF orbit\n",
    "orb.integrate(ts, pot.MWPotential2014)"
   ]
  },
  {
   "cell_type": "code",
   "execution_count": 28,
   "id": "bf5054be",
   "metadata": {},
   "outputs": [
    {
     "data": {
      "text/plain": [
       "<matplotlib.legend.Legend at 0x7fbb24ca25d0>"
      ]
     },
     "execution_count": 28,
     "metadata": {},
     "output_type": "execute_result"
    },
    {
     "data": {
      "image/png": "[encoded data removed]",
      "text/plain": [
       "<Figure size 640x480 with 1 Axes>"
      ]
     },
     "metadata": {},
     "output_type": "display_data"
    }
   ],
   "source": [
    "orb.plot(d1='t',d2='r', color=\"k\", linewidth=2, linestyle=\"dashed\", label=r'Orbit with No DF')\n",
    "\n",
    "def tidal_times(rad_ind):\n",
    "    times = []\n",
    "    for t in ts:\n",
    "        r = orb.dist(t)*1e3\n",
    "        r_max = all_rs[rad_ind][0]\n",
    "        r_min = all_rs[rad_ind][-1]\n",
    "       # print(r, min(r_min,r_max), max(r_min,r_max))\n",
    "        if min(r_min,r_max) < r < max(r_min,r_max):\n",
    "        #    print(\"here\",t.value)\n",
    "            times.append(t.value)\n",
    "    return np.asarray(times)\n",
    "    \n",
    "for i in range(len(Mstar_Leo.value-1)):\n",
    "    R2_times = tidal_times(1)\n",
    "    R3_times = tidal_times(2)\n",
    "    #print(R1_time)\n",
    "    #print(R1_time, R3_time)\n",
    "    R1_times = tidal_times(0)\n",
    "#    print(R1_times)\n",
    "\n",
    "R1dists = []\n",
    "for times in R1_times:\n",
    "    R1dists.append(orb.dist(times*u.Gyr))  \n",
    "R2dists = []\n",
    "for times in R2_times:\n",
    "    R2dists.append(orb.dist(times*u.Gyr))\n",
    "R3dists = []\n",
    "for times in R3_times:\n",
    "    R3dists.append(orb.dist(times*u.Gyr))  \n",
    "\n",
    "plt.scatter(R1_times, R1dists, marker = \"*\", color = \"r\", s = 50, zorder=10, label = r\"Tidal Disrupt at $1 R_v$\")    \n",
    "plt.scatter(R2_times, R2dists, marker = \"*\", color = \"y\", s = 50, zorder=10, label = r\"Tidal Disrupt at $2 R_v$\")\n",
    "plt.scatter(R3_times, R3dists, marker = \"*\", color = \"b\", s = 50, zorder=10, label = r\"Tidal Disrupt at $3 R_v$\")\n",
    "plt.legend()\n",
    "#Dynamical Friction Properties \n",
    "# Mass_lowres = np.linspace(0.5e10,2.1e10, 9)*u.Msun\n",
    "# for m in Mass_lowres:\n",
    "#     DF = pot.ChandrasekharDynamicalFrictionForce(GMs=m,rhm=0.5*u.kpc, dens=MW_Wang)\n",
    "#     orb_df.integrate(ts, MW_Wang+DF)\n",
    "#     orb_df.plot(d1='t',d2='r', linewidth=1, label=f'DF with Mass {m/1e10} 10^10 Solar Masses', overplot=True)"
   ]
  },
  {
   "cell_type": "code",
   "execution_count": null,
   "id": "b6c1d260",
   "metadata": {},
   "outputs": [],
   "source": []
  }
 ],
 "metadata": {
  "kernelspec": {
   "display_name": "Python 3 (ipykernel)",
   "language": "python",
   "name": "python3"
  },
  "language_info": {
   "codemirror_mode": {
    "name": "ipython",
    "version": 3
   },
   "file_extension": ".py",
   "mimetype": "text/x-python",
   "name": "python",
   "nbconvert_exporter": "python",
   "pygments_lexer": "ipython3",
   "version": "3.11.4"
  }
 },
 "nbformat": 4,
 "nbformat_minor": 5
}
