{
 "cells": [
  {
   "cell_type": "code",
   "execution_count": 1,
   "id": "a7cf48e7",
   "metadata": {},
   "outputs": [],
   "source": [
    "%matplotlib inline\n",
    "import galpy\n",
    "import numpy as np\n",
    "import scipy as sp\n",
    "from matplotlib.pylab import plt, xlim, ylim\n",
    "from astropy import units as u\n",
    "\n",
    "from galpy.df import streamdf\n",
    "from galpy.orbit import Orbit\n",
    "from galpy.potential import LogarithmicHaloPotential, MWPotential2014, IsochronePotential\n",
    "from galpy.actionAngle import actionAngleIsochroneApprox\n",
    "from galpy.util import conversion #for unit conversions"
   ]
  },
  {
   "cell_type": "code",
   "execution_count": 2,
   "id": "36149062",
   "metadata": {},
   "outputs": [],
   "source": [
    "#Parameters\n",
    "sigv= 9.2 #km/s\n",
    "\n",
    "#Set up potentials\n",
    "#lp= LogarithmicHaloPotential(normalize=1.,q=0.9)\n",
    "mw= MWPotential2014# [2] *1.5\n",
    "mw[2]*= 1.5\n",
    "\n",
    "#Set up orbits\n",
    "#orb_doc= Orbit([1.56148083,0.35081535,-1.15481504,0.88719443,-0.47713334,0.12019596])\n",
    "#orb_forw= Orbit([337.2675994746023/8, 36.06614670750193/8, 1088.950249792649/8, \n",
    " #               -286.8425553650681/220, 61.58222451126416/220, -66.40339287756248/220]\n",
    " #               ,ro=8, vo=220)\n",
    "#needed to specify ro and vo for orb_forw to convert natural units to physical units\n",
    "\n",
    "orb_back= Orbit.from_name('Leo I')\n",
    "\n",
    "#Set up times\n",
    "back = np.linspace(0,-2,11)*u.Gyr\n",
    "#forw = np.linspace(0, 1,11)*u.Gyr"
   ]
  },
  {
   "cell_type": "code",
   "execution_count": 3,
   "id": "2d697062",
   "metadata": {},
   "outputs": [
    {
     "name": "stdout",
     "output_type": "stream",
     "text": [
      " \n",
      " [ 6.74562412 21.93727703 30.67529447]\n"
     ]
    }
   ],
   "source": [
    "#Now we do the same thing but smarter:\n",
    "#Import function that estimates the correct scale length for an orbit object \n",
    "from galpy.actionAngle import estimateBIsochrone\n",
    "\n",
    "orb_back.integrate(back,mw)\n",
    "#orb_forw.integrate(forw,mw)\n",
    "\n",
    "#Finally, estimate the correct scale length to approx the potential over this orbit\n",
    "#bs_back = estimateBIsochrone(mw,orb_back.R(back),orb_back.z(back))\n",
    "#bs_forw = estimateBIsochrone(mw,orb_forw.R(forw),orb_forw.z(forw))\n",
    "bs_back = estimateBIsochrone(mw,orb_back.R(back),orb_back.z(back))\n",
    "print(f\" \\n {bs_back}\")"
   ]
  },
  {
   "cell_type": "code",
   "execution_count": null,
   "id": "2b3529dc",
   "metadata": {},
   "outputs": [
    {
     "name": "stdout",
     "output_type": "stream",
     "text": [
      "galpyWarning: Full radial angle range not covered for at least one object; actions are likely not reliable\n",
      "galpyWarning: Warning: progenitor's solarmotion does not agree with streamdf's vsun (after accounting for vo); this may have unexpected consequences when projecting into observables\n",
      "/data/reu/jkittlin/miniconda3/envs/galpyenv/lib/python3.11/site-packages/galpy/actionAngle/actionAngleIsochrone.py:236: RuntimeWarning: invalid value encountered in sqrt\n",
      "  Jr= self.amp/numpy.sqrt(-2.*E)\\\n",
      "\n",
      "/data/reu/jkittlin/miniconda3/envs/galpyenv/lib/python3.11/site-packages/galpy/actionAngle/actionAngleIsochrone.py:239: RuntimeWarning: invalid value encountered in power\n",
      "  Omegar= (-2.*E)**1.5/self.amp\n",
      "\n",
      "/data/reu/jkittlin/miniconda3/envs/galpyenv/lib/python3.11/site-packages/galpy/actionAngle/actionAngleIsochrone.py:263: RuntimeWarning: invalid value encountered in sqrt\n",
      "  tan11= numpy.arctan(numpy.sqrt((1.+e)/(1.-e))*numpy.tan(0.5*eta))\n",
      "\n",
      "/data/reu/jkittlin/miniconda3/envs/galpyenv/lib/python3.11/site-packages/galpy/actionAngle/actionAngleIsochrone.py:264: RuntimeWarning: invalid value encountered in sqrt\n",
      "  tan12= numpy.arctan(numpy.sqrt((1.+e+2.*self.b/c)/(1.-e+2.*self.b/c))*numpy.tan(0.5*eta))\n",
      "\n",
      "/data/reu/jkittlin/miniconda3/envs/galpyenv/lib/python3.11/site-packages/numpy/linalg/linalg.py:2139: RuntimeWarning: invalid value encountered in det\n",
      "  r = _umath_linalg.det(a, signature=signature)\n",
      "\n",
      "6.745 didn't work!\n",
      "6.755004180602007 didn't work!\n",
      "6.765008361204013 didn't work!\n",
      "6.77501254180602 didn't work!\n",
      "6.7850167224080264 didn't work!\n",
      "6.795020903010034 didn't work!\n"
     ]
    }
   ],
   "source": [
    "#With these values, we run our search\n",
    "b = np.linspace(6.745,30.675,2393)\n",
    "b_fit = []\n",
    "\n",
    "for r in b:\n",
    "    aAI_mw= actionAngleIsochroneApprox(pot=mw, b=r)\n",
    "    try:\n",
    "        sdf= streamdf(sigv/220.,progenitor=orb_back, pot=mw, aA=aAI_mw,leading=False,\n",
    "              nTrackChunks=10, nTrackIterations=2, tdisrupt=2/conversion.time_in_Gyr(220.,8.))\n",
    "    except np.linalg.LinAlgError:\n",
    "        print(f\"{r} didn't work!\")\n",
    "    except ValueError:\n",
    "        print(f\"{r} produced a value error\")\n",
    "    else:\n",
    "        print(f\"No nans/infs reported. {r} works!\")\n",
    "        b_fit.append(r)"
   ]
  },
  {
   "cell_type": "code",
   "execution_count": 6,
   "id": "ab18932a",
   "metadata": {},
   "outputs": [
    {
     "name": "stdout",
     "output_type": "stream",
     "text": [
      "galpyWarning: Full radial angle range not covered for at least one object; actions are likely not reliable\n",
      "galpyWarning: Warning: progenitor's solarmotion does not agree with streamdf's vsun (after accounting for vo); this may have unexpected consequences when projecting into observables\n",
      "galpyWarning: In versions >1.3, the output unit of streamdf.misalignment has been changed to radian (from degree before)\n",
      "/data/reu/jkittlin/miniconda3/envs/galpyenv/lib/python3.11/site-packages/galpy/actionAngle/actionAngleIsochrone.py:236: RuntimeWarning: invalid value encountered in sqrt\n",
      "  Jr= self.amp/numpy.sqrt(-2.*E)\\\n",
      "\n",
      "/data/reu/jkittlin/miniconda3/envs/galpyenv/lib/python3.11/site-packages/galpy/actionAngle/actionAngleIsochrone.py:239: RuntimeWarning: invalid value encountered in power\n",
      "  Omegar= (-2.*E)**1.5/self.amp\n",
      "\n",
      "/data/reu/jkittlin/miniconda3/envs/galpyenv/lib/python3.11/site-packages/galpy/actionAngle/actionAngleIsochrone.py:263: RuntimeWarning: invalid value encountered in sqrt\n",
      "  tan11= numpy.arctan(numpy.sqrt((1.+e)/(1.-e))*numpy.tan(0.5*eta))\n",
      "\n",
      "/data/reu/jkittlin/miniconda3/envs/galpyenv/lib/python3.11/site-packages/galpy/actionAngle/actionAngleIsochrone.py:264: RuntimeWarning: invalid value encountered in sqrt\n",
      "  tan12= numpy.arctan(numpy.sqrt((1.+e+2.*self.b/c)/(1.-e+2.*self.b/c))*numpy.tan(0.5*eta))\n",
      "\n",
      "/data/reu/jkittlin/miniconda3/envs/galpyenv/lib/python3.11/site-packages/numpy/linalg/linalg.py:2139: RuntimeWarning: invalid value encountered in det\n",
      "  r = _umath_linalg.det(a, signature=signature)\n",
      "\n"
     ]
    },
    {
     "ename": "LinAlgError",
     "evalue": "Array must not contain infs or NaNs",
     "output_type": "error",
     "traceback": [
      "\u001b[0;31m---------------------------------------------------------------------------\u001b[0m",
      "\u001b[0;31mLinAlgError\u001b[0m                               Traceback (most recent call last)",
      "Cell \u001b[0;32mIn[6], line 4\u001b[0m\n\u001b[1;32m      2\u001b[0m b_fit \u001b[38;5;241m=\u001b[39m bs_back\n\u001b[1;32m      3\u001b[0m aAI_mw \u001b[38;5;241m=\u001b[39m actionAngleIsochroneApprox(pot\u001b[38;5;241m=\u001b[39mmw, b\u001b[38;5;241m=\u001b[39mb_fit[\u001b[38;5;241m1\u001b[39m])\n\u001b[0;32m----> 4\u001b[0m sdf \u001b[38;5;241m=\u001b[39m streamdf(sigv\u001b[38;5;241m/\u001b[39m\u001b[38;5;241m220.\u001b[39m, progenitor\u001b[38;5;241m=\u001b[39morb_back, pot\u001b[38;5;241m=\u001b[39mmw, aA\u001b[38;5;241m=\u001b[39maAI_mw,leading\u001b[38;5;241m=\u001b[39m\u001b[38;5;28;01mFalse\u001b[39;00m,\n\u001b[1;32m      5\u001b[0m               nTrackChunks\u001b[38;5;241m=\u001b[39m\u001b[38;5;241m10\u001b[39m, tdisrupt\u001b[38;5;241m=\u001b[39m\u001b[38;5;241m2\u001b[39m\u001b[38;5;241m/\u001b[39mconversion\u001b[38;5;241m.\u001b[39mtime_in_Gyr(\u001b[38;5;241m220.\u001b[39m,\u001b[38;5;241m8.\u001b[39m))\n",
      "File \u001b[0;32m/data/reu/jkittlin/miniconda3/envs/galpyenv/lib/python3.11/site-packages/galpy/df/streamdf.py:210\u001b[0m, in \u001b[0;36mstreamdf.__init__\u001b[0;34m(self, sigv, progenitor, pot, aA, useTM, tdisrupt, sigMeanOffset, leading, sigangle, deltaAngleTrack, nTrackChunks, nTrackIterations, progIsTrack, ro, vo, Vnorm, Rnorm, R0, Zsun, vsun, multi, interpTrack, useInterp, nosetup, nospreadsetup, approxConstTrackFreq, useTMHessian, custom_transform)\u001b[0m\n\u001b[1;32m    208\u001b[0m         \u001b[38;5;28mself\u001b[39m\u001b[38;5;241m.\u001b[39m_interpolate_stream_track_aA()\n\u001b[1;32m    209\u001b[0m     \u001b[38;5;28mself\u001b[39m\u001b[38;5;241m.\u001b[39mcalc_stream_lb()\n\u001b[0;32m--> 210\u001b[0m     \u001b[38;5;28;01mif\u001b[39;00m \u001b[38;5;129;01mnot\u001b[39;00m nospreadsetup: \u001b[38;5;28mself\u001b[39m\u001b[38;5;241m.\u001b[39m_determine_stream_spread()\n\u001b[1;32m    211\u001b[0m \u001b[38;5;28;01mreturn\u001b[39;00m \u001b[38;5;28;01mNone\u001b[39;00m\n",
      "File \u001b[0;32m/data/reu/jkittlin/miniconda3/envs/galpyenv/lib/python3.11/site-packages/galpy/df/streamdf.py:1207\u001b[0m, in \u001b[0;36mstreamdf._determine_stream_spread\u001b[0;34m(self, simple)\u001b[0m\n\u001b[1;32m   1204\u001b[0m allErrCovsXY[ii]\u001b[38;5;241m=\u001b[39m\\\n\u001b[1;32m   1205\u001b[0m     numpy\u001b[38;5;241m.\u001b[39mdot(tjac,numpy\u001b[38;5;241m.\u001b[39mdot(\u001b[38;5;28mself\u001b[39m\u001b[38;5;241m.\u001b[39m_allErrCovs[ii],tjac\u001b[38;5;241m.\u001b[39mT))\n\u001b[1;32m   1206\u001b[0m \u001b[38;5;66;03m#Eigen decomposition for interpolation\u001b[39;00m\n\u001b[0;32m-> 1207\u001b[0m teig\u001b[38;5;241m=\u001b[39m numpy\u001b[38;5;241m.\u001b[39mlinalg\u001b[38;5;241m.\u001b[39meig(allErrCovsXY[ii])\n\u001b[1;32m   1208\u001b[0m \u001b[38;5;66;03m#Sort them to match them up later\u001b[39;00m\n\u001b[1;32m   1209\u001b[0m sortIndx\u001b[38;5;241m=\u001b[39m numpy\u001b[38;5;241m.\u001b[39margsort(teig[\u001b[38;5;241m0\u001b[39m])\n",
      "File \u001b[0;32m<__array_function__ internals>:200\u001b[0m, in \u001b[0;36meig\u001b[0;34m(*args, **kwargs)\u001b[0m\n",
      "File \u001b[0;32m/data/reu/jkittlin/miniconda3/envs/galpyenv/lib/python3.11/site-packages/numpy/linalg/linalg.py:1298\u001b[0m, in \u001b[0;36meig\u001b[0;34m(a)\u001b[0m\n\u001b[1;32m   1296\u001b[0m _assert_stacked_2d(a)\n\u001b[1;32m   1297\u001b[0m _assert_stacked_square(a)\n\u001b[0;32m-> 1298\u001b[0m _assert_finite(a)\n\u001b[1;32m   1299\u001b[0m t, result_t \u001b[38;5;241m=\u001b[39m _commonType(a)\n\u001b[1;32m   1301\u001b[0m extobj \u001b[38;5;241m=\u001b[39m get_linalg_error_extobj(\n\u001b[1;32m   1302\u001b[0m     _raise_linalgerror_eigenvalues_nonconvergence)\n",
      "File \u001b[0;32m/data/reu/jkittlin/miniconda3/envs/galpyenv/lib/python3.11/site-packages/numpy/linalg/linalg.py:195\u001b[0m, in \u001b[0;36m_assert_finite\u001b[0;34m(*arrays)\u001b[0m\n\u001b[1;32m    193\u001b[0m \u001b[38;5;28;01mfor\u001b[39;00m a \u001b[38;5;129;01min\u001b[39;00m arrays:\n\u001b[1;32m    194\u001b[0m     \u001b[38;5;28;01mif\u001b[39;00m \u001b[38;5;129;01mnot\u001b[39;00m isfinite(a)\u001b[38;5;241m.\u001b[39mall():\n\u001b[0;32m--> 195\u001b[0m         \u001b[38;5;28;01mraise\u001b[39;00m LinAlgError(\u001b[38;5;124m\"\u001b[39m\u001b[38;5;124mArray must not contain infs or NaNs\u001b[39m\u001b[38;5;124m\"\u001b[39m)\n",
      "\u001b[0;31mLinAlgError\u001b[0m: Array must not contain infs or NaNs"
     ]
    }
   ],
   "source": [
    "#b_fit = [11.34, 16.29, 21.990000000000002, 39.96, 42.53]\n",
    "b_fit = bs_back\n",
    "aAI_mw = actionAngleIsochroneApprox(pot=mw, b=b_fit[1])\n",
    "sdf = streamdf(sigv/220., progenitor=orb_back, pot=mw, aA=aAI_mw,leading=False,\n",
    "              nTrackChunks=10, tdisrupt=2/conversion.time_in_Gyr(220.,8.))"
   ]
  },
  {
   "cell_type": "code",
   "execution_count": null,
   "id": "b59a5602",
   "metadata": {},
   "outputs": [],
   "source": [
    "#Plots average location of track\n",
    "sdf.plotTrack(d1='r',d2='z',interp=True,color='red',spread=2, lw=2.,scaleToPhysical=True, label=\"Stream\")\n",
    "\n",
    "#Turning off interpolation plots points that were explicitly calculated\n",
    "sdf.plotTrack(d1='r',d2='z',interp=False,color='yellow',spread=0,overplot=True,ls='none',marker='o',scaleToPhysical=True)\n",
    "\n",
    "#We also plot the progenitory to compare\n",
    "sdf.plotProgenitor(d1='r',d2='z',color='k', overplot=True, scaleToPhysical=True, label=\"Leo I\")\n",
    "plt.legend()\n",
    "\n",
    "plt.xlim(10,300)\n",
    "plt.ylim(-200,500)\n",
    "\"\"\"Bro these guys are not going in the same direction\"\"\""
   ]
  },
  {
   "cell_type": "code",
   "execution_count": null,
   "id": "b5ff2a33",
   "metadata": {},
   "outputs": [],
   "source": [
    "sdf.plotTrack(d1='ll',d2='dist',interp=True,color='r',spread=2,overplot=False,lw=2., label=\"Stream\")\n",
    "sdf.plotTrack(d1='ll',d2='dist',interp=False,color='y',spread=0,overplot=True,ls='none',marker='o')\n",
    "sdf.plotProgenitor(d1='ll',d2='dist',color='k',overplot=True,ls='--', label=\"Leo I\")\n",
    "xlim(0,360); ylim(10,500)\n"
   ]
  },
  {
   "cell_type": "code",
   "execution_count": null,
   "id": "31ee5e34",
   "metadata": {},
   "outputs": [],
   "source": []
  }
 ],
 "metadata": {
  "kernelspec": {
   "display_name": "Python 3 (ipykernel)",
   "language": "python",
   "name": "python3"
  },
  "language_info": {
   "codemirror_mode": {
    "name": "ipython",
    "version": 3
   },
   "file_extension": ".py",
   "mimetype": "text/x-python",
   "name": "python",
   "nbconvert_exporter": "python",
   "pygments_lexer": "ipython3",
   "version": "3.11.3"
  }
 },
 "nbformat": 4,
 "nbformat_minor": 5
}
