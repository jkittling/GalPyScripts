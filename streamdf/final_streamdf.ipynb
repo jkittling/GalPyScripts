{
 "cells": [
  {
   "cell_type": "code",
   "execution_count": 1,
   "id": "c648a7ed",
   "metadata": {},
   "outputs": [],
   "source": [
    "%matplotlib inline\n",
    "import galpy\n",
    "import numpy as np\n",
    "import scipy as sp\n",
    "from matplotlib.pylab import plt, xlim, ylim\n",
    "from astropy import units as u\n",
    "\n",
    "from galpy.df import streamdf\n",
    "from galpy.orbit import Orbit\n",
    "from galpy.potential import MWPotential2014, IsochronePotential\n",
    "from galpy.actionAngle import actionAngleIsochroneApprox, estimateBIsochrone\n",
    "from galpy.util import conversion #for unit conversions"
   ]
  },
  {
   "cell_type": "code",
   "execution_count": 2,
   "id": "1d67a879",
   "metadata": {},
   "outputs": [],
   "source": [
    "#Parameter Block\n",
    "sigv_Leo = 9.2 #km/s\n",
    "mw = MWPotential2014 \n",
    "orb = Orbit.from_name('Leo I')\n",
    "ts = np.linspace(0,-2,2001)*u.Gyr"
   ]
  },
  {
   "cell_type": "code",
   "execution_count": 3,
   "id": "c1f7cc8b",
   "metadata": {},
   "outputs": [
    {
     "name": "stdout",
     "output_type": "stream",
     "text": [
      "[ 7.144499   18.69086399 30.27207178]\n"
     ]
    }
   ],
   "source": [
    "#Estimate the scale length of Isochrone Potential\n",
    "orb.integrate(ts,mw)\n",
    "b_fits = estimateBIsochrone(mw, orb.R(ts), orb.z(ts))\n",
    "print(b_fits)"
   ]
  },
  {
   "cell_type": "code",
   "execution_count": null,
   "id": "5d05225f",
   "metadata": {},
   "outputs": [
    {
     "name": "stdout",
     "output_type": "stream",
     "text": [
      "galpyWarning: Full radial angle range not covered for at least one object; actions are likely not reliable\n",
      "galpyWarning: Warning: progenitor's solarmotion does not agree with streamdf's vsun (after accounting for vo); this may have unexpected consequences when projecting into observables\n",
      "/data/reu/jkittlin/miniconda3/envs/galpyenv/lib/python3.11/site-packages/galpy/actionAngle/actionAngleIsochrone.py:236: RuntimeWarning: invalid value encountered in sqrt\n",
      "  Jr= self.amp/numpy.sqrt(-2.*E)\\\n",
      "\n",
      "/data/reu/jkittlin/miniconda3/envs/galpyenv/lib/python3.11/site-packages/galpy/actionAngle/actionAngleIsochrone.py:239: RuntimeWarning: invalid value encountered in power\n",
      "  Omegar= (-2.*E)**1.5/self.amp\n",
      "\n",
      "/data/reu/jkittlin/miniconda3/envs/galpyenv/lib/python3.11/site-packages/galpy/actionAngle/actionAngleIsochrone.py:263: RuntimeWarning: invalid value encountered in sqrt\n",
      "  tan11= numpy.arctan(numpy.sqrt((1.+e)/(1.-e))*numpy.tan(0.5*eta))\n",
      "\n",
      "/data/reu/jkittlin/miniconda3/envs/galpyenv/lib/python3.11/site-packages/galpy/actionAngle/actionAngleIsochrone.py:264: RuntimeWarning: invalid value encountered in sqrt\n",
      "  tan12= numpy.arctan(numpy.sqrt((1.+e+2.*self.b/c)/(1.-e+2.*self.b/c))*numpy.tan(0.5*eta))\n",
      "\n",
      "/data/reu/jkittlin/miniconda3/envs/galpyenv/lib/python3.11/site-packages/numpy/linalg/linalg.py:2139: RuntimeWarning: invalid value encountered in det\n",
      "  r = _umath_linalg.det(a, signature=signature)\n",
      "\n",
      "7.144498999079067 didn't work!\n",
      "7.233794646864098 didn't work!\n",
      "7.32309029464913 didn't work!\n",
      "7.4123859424341605 didn't work!\n",
      "7.501681590219191 didn't work!\n",
      "7.590977238004223 didn't work!\n",
      "7.680272885789254 didn't work!\n",
      "7.769568533574285 didn't work!\n",
      "7.858864181359316 didn't work!\n",
      "7.948159829144347 didn't work!\n",
      "8.03745547692938 didn't work!\n",
      "8.12675112471441 didn't work!\n",
      "galpyWarning: Full vertical angle range not covered for at least one object; actions are likely not reliable\n",
      "8.21604677249944 didn't work!\n",
      "8.305342420284472 didn't work!\n",
      "8.394638068069503 didn't work!\n",
      "8.483933715854533 didn't work!\n",
      "8.573229363639566 didn't work!\n",
      "8.662525011424597 didn't work!\n",
      "8.751820659209628 didn't work!\n",
      "8.841116306994659 didn't work!\n",
      "8.93041195477969 didn't work!\n",
      "9.01970760256472 didn't work!\n",
      "9.109003250349751 didn't work!\n",
      "9.198298898134784 didn't work!\n",
      "9.287594545919815 didn't work!\n",
      "9.376890193704845 didn't work!\n",
      "9.466185841489876 didn't work!\n",
      "9.555481489274907 didn't work!\n",
      "9.64477713705994 didn't work!\n",
      "9.734072784844969 didn't work!\n",
      "9.823368432630001 didn't work!\n",
      "9.912664080415032 didn't work!\n",
      "10.001959728200063 didn't work!\n",
      "10.091255375985094 didn't work!\n",
      "10.180551023770125 didn't work!\n"
     ]
    }
   ],
   "source": [
    "#Run streamdf for multple values of b\n",
    "bs = np.linspace(b_fits[0],b_fits[2],260)\n",
    "b_true = []\n",
    "for r in bs:\n",
    "    aAI_mw= actionAngleIsochroneApprox(pot=mw, b=r)\n",
    "    try:\n",
    "        sdf= streamdf(sigv_Leo/220., progenitor=orb, pot=mw, aA=aAI_mw,leading=False,\n",
    "              nTrackChunks=10, nTrackIterations=2, tdisrupt=2/conversion.time_in_Gyr(220.,8.),\n",
    "                     vo=220, ro=8, R0=8)\n",
    "    except np.linalg.LinAlgError:\n",
    "        print(f\"{r} didn't work!\")\n",
    "    except ValueError:\n",
    "        print(f\"{r} produced a value error\")\n",
    "    else:\n",
    "        print(f\"No nans/infs reported. {r} works!\")\n",
    "        b_true.append(r)"
   ]
  },
  {
   "cell_type": "code",
   "execution_count": null,
   "id": "4038ff7e",
   "metadata": {},
   "outputs": [],
   "source": [
    "# #Plots average location of track\n",
    "# sdf.plotTrack(d1='r',d2='z',interp=True,color='red',spread=2, lw=2.,scaleToPhysical=True, label=\"Stream\")\n",
    "\n",
    "# #Turning off interpolation plots points that were explicitly calculated\n",
    "# sdf.plotTrack(d1='r',d2='z',interp=False,color='yellow',spread=0,overplot=True,ls='none',marker='o',scaleToPhysical=True)\n",
    "\n",
    "# #We also plot the progenitory to compare\n",
    "# sdf.plotProgenitor(d1='r',d2='z',color='k', overplot=True, scaleToPhysical=True, label=\"Leo I\")\n",
    "# plt.legend()\n",
    "\n",
    "# plt.xlim(10,300)\n",
    "# plt.ylim(-200,500)"
   ]
  }
 ],
 "metadata": {
  "kernelspec": {
   "display_name": "Python 3 (ipykernel)",
   "language": "python",
   "name": "python3"
  },
  "language_info": {
   "codemirror_mode": {
    "name": "ipython",
    "version": 3
   },
   "file_extension": ".py",
   "mimetype": "text/x-python",
   "name": "python",
   "nbconvert_exporter": "python",
   "pygments_lexer": "ipython3",
   "version": "3.11.4"
  }
 },
 "nbformat": 4,
 "nbformat_minor": 5
}
