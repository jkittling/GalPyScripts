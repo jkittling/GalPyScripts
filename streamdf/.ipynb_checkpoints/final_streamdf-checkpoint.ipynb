{
 "cells": [
  {
   "cell_type": "code",
   "execution_count": 2,
   "id": "c648a7ed",
   "metadata": {},
   "outputs": [],
   "source": [
    "%matplotlib inline\n",
    "import galpy\n",
    "import numpy as np\n",
    "import scipy as sp\n",
    "from matplotlib.pylab import plt, xlim, ylim\n",
    "from astropy import units as u\n",
    "\n",
    "from galpy.df import streamdf\n",
    "from galpy.orbit import Orbit\n",
    "from galpy.potential import MWPotential2014, IsochronePotential\n",
    "from galpy.actionAngle import actionAngleIsochroneApprox, estimateBIsochrone\n",
    "from galpy.util import conversion #for unit conversions"
   ]
  },
  {
   "cell_type": "code",
   "execution_count": 3,
   "id": "1d67a879",
   "metadata": {},
   "outputs": [],
   "source": [
    "#Parameter Block\n",
    "sigv_Leo = 9.2 #km/s\n",
    "mw = MWPotential2014 \n",
    "orb = Orbit.from_name('Leo I')\n",
    "ts = np.linspace(0,-2,2002)*u.Gyr"
   ]
  },
  {
   "cell_type": "code",
   "execution_count": 4,
   "id": "c1f7cc8b",
   "metadata": {},
   "outputs": [
    {
     "name": "stdout",
     "output_type": "stream",
     "text": [
      "[ 7.14449328 18.69030939 30.27207178]\n"
     ]
    }
   ],
   "source": [
    "#Estimate the scale length of Isochrone Potential\n",
    "orb.integrate(ts,mw)\n",
    "b_fits = estimateBIsochrone(mw, orb.R(ts), orb.z(ts))\n",
    "print(b_fits)"
   ]
  },
  {
   "cell_type": "code",
   "execution_count": null,
   "id": "5d05225f",
   "metadata": {},
   "outputs": [],
   "source": [
    "#Run streamdf for multple values of b\n",
    "bs = np.linspace(b_fits[0],b_fits[2],260)\n",
    "b_true = []\n",
    "for r in bs:\n",
    "    aAI_mw= actionAngleIsochroneApprox(pot=mw, b=r)\n",
    "    try:\n",
    "        sdf= streamdf(sigv_Leo/220., progenitor=orb, pot=mw, aA=aAI_mw,leading=False,\n",
    "              nTrackChunks=10, nTrackIterations=2, tdisrupt=2/conversion.time_in_Gyr(220.,8.),\n",
    "                     vo=220, ro=8, R0=8)\n",
    "    except np.linalg.LinAlgError:\n",
    "        print(f\"{r} didn't work!\")\n",
    "    except ValueError:\n",
    "        print(f\"{r} produced a value error\")\n",
    "    else:\n",
    "        print(f\"No nans/infs reported. {r} works!\")\n",
    "        b_true.append(r)"
   ]
  },
  {
   "cell_type": "code",
   "execution_count": null,
   "id": "4038ff7e",
   "metadata": {},
   "outputs": [],
   "source": [
    "# #Plots average location of track\n",
    "# sdf.plotTrack(d1='r',d2='z',interp=True,color='red',spread=2, lw=2.,scaleToPhysical=True, label=\"Stream\")\n",
    "\n",
    "# #Turning off interpolation plots points that were explicitly calculated\n",
    "# sdf.plotTrack(d1='r',d2='z',interp=False,color='yellow',spread=0,overplot=True,ls='none',marker='o',scaleToPhysical=True)\n",
    "\n",
    "# #We also plot the progenitory to compare\n",
    "# sdf.plotProgenitor(d1='r',d2='z',color='k', overplot=True, scaleToPhysical=True, label=\"Leo I\")\n",
    "# plt.legend()\n",
    "\n",
    "# plt.xlim(10,300)\n",
    "# plt.ylim(-200,500)"
   ]
  }
 ],
 "metadata": {
  "kernelspec": {
   "display_name": "Python 3 (ipykernel)",
   "language": "python",
   "name": "python3"
  },
  "language_info": {
   "codemirror_mode": {
    "name": "ipython",
    "version": 3
   },
   "file_extension": ".py",
   "mimetype": "text/x-python",
   "name": "python",
   "nbconvert_exporter": "python",
   "pygments_lexer": "ipython3",
   "version": "3.11.3"
  }
 },
 "nbformat": 4,
 "nbformat_minor": 5
}
